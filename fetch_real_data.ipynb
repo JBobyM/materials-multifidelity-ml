{
 "cells": [
  {
   "cell_type": "code",
   "execution_count": 1,
   "metadata": {},
   "outputs": [
    {
     "data": {
      "text/plain": [
       "'\\nFetch real multi-fidelity data from Materials Project\\nCompares PBE and r2SCAN calculations for actual materials\\n'"
      ]
     },
     "execution_count": 1,
     "metadata": {},
     "output_type": "execute_result"
    }
   ],
   "source": [
    "\"\"\"\n",
    "Fetch real multi-fidelity data from Materials Project\n",
    "Compares PBE and r2SCAN calculations for actual materials\n",
    "\"\"\""
   ]
  },
  {
   "cell_type": "code",
   "execution_count": 2,
   "metadata": {},
   "outputs": [],
   "source": [
    "import os\n",
    "import numpy as np\n",
    "import pandas as pd\n",
    "from mp_api.client import MPRester\n",
    "import warnings\n",
    "warnings.filterwarnings('ignore')"
   ]
  },
  {
   "cell_type": "code",
   "execution_count": 3,
   "metadata": {},
   "outputs": [
    {
     "name": "stdout",
     "output_type": "stream",
     "text": [
      "================================================================================\n",
      "FETCHING REAL MATERIALS PROJECT DATA\n",
      "================================================================================\n"
     ]
    }
   ],
   "source": [
    "print(\"=\" * 80)\n",
    "print(\"FETCHING REAL MATERIALS PROJECT DATA\")\n",
    "print(\"=\" * 80)"
   ]
  },
  {
   "cell_type": "code",
   "execution_count": 4,
   "metadata": {},
   "outputs": [
    {
     "name": "stdout",
     "output_type": "stream",
     "text": [
      "\n",
      "Materials Project API key not found in environment.\n",
      "Please set it: export MP_API_KEY='your_key_here'\n",
      "Or get a free key at: https://next-gen.materialsproject.org/api\n",
      "\n",
      "Attempting to read from .env file...\n",
      "✓ Found API key in .env\n"
     ]
    }
   ],
   "source": [
    "# Get API key from environment or user input\n",
    "api_key = os.environ.get('MP_API_KEY')\n",
    "if not api_key:\n",
    "    print(\"\\nMaterials Project API key not found in environment.\")\n",
    "    print(\"Please set it: export MP_API_KEY='your_key_here'\")\n",
    "    print(\"Or get a free key at: https://next-gen.materialsproject.org/api\")\n",
    "    print(\"\\nAttempting to read from .env file...\")\n",
    "\n",
    "    # Try to read from .env file\n",
    "    env_file = '.env'\n",
    "    if os.path.exists(env_file):\n",
    "        with open(env_file) as f:\n",
    "            for line in f:\n",
    "                if line.startswith('MP_API_KEY='):\n",
    "                    api_key = line.strip().split('=')[1].strip('\"\\'')\n",
    "                    print(f\"✓ Found API key in {env_file}\")\n",
    "                    break\n",
    "\n",
    "    if not api_key:\n",
    "        print(\"\\n⚠ No API key found. Creating template .env file...\")\n",
    "        with open('.env', 'w') as f:\n",
    "            f.write('MP_API_KEY=\"YOUR_API_KEY_HERE\"\\n')\n",
    "        print(\"✓ Created .env file - please add your API key and run again\")\n",
    "        exit(1)"
   ]
  },
  {
   "cell_type": "code",
   "execution_count": 5,
   "metadata": {},
   "outputs": [
    {
     "name": "stdout",
     "output_type": "stream",
     "text": [
      "\n",
      "✓ Using Materials Project API key: QT2NndWw...\n"
     ]
    }
   ],
   "source": [
    "print(f\"\\n✓ Using Materials Project API key: {api_key[:8]}...\")"
   ]
  },
  {
   "cell_type": "code",
   "execution_count": 11,
   "metadata": {},
   "outputs": [
    {
     "name": "stdout",
     "output_type": "stream",
     "text": [
      "\n",
      "[1/5] Querying Materials Project database...\n",
      "       Looking for materials with both PBE and r2SCAN calculations...\n"
     ]
    },
    {
     "data": {
      "application/vnd.jupyter.widget-view+json": {
       "model_id": "b572eb3755cf4088b2617afe5070a21b",
       "version_major": 2,
       "version_minor": 0
      },
      "text/plain": [
       "Retrieving SummaryDoc documents:   0%|          | 0/2500 [00:00<?, ?it/s]"
      ]
     },
     "metadata": {},
     "output_type": "display_data"
    },
    {
     "name": "stdout",
     "output_type": "stream",
     "text": [
      "✓ Retrieved 2500 materials\n",
      "\n",
      "[2/5] Processing materials data...\n",
      "✓ Processed 2500 materials with complete data\n",
      "\n",
      "Data summary:\n",
      "  Materials: 2500\n",
      "  Properties: 10\n",
      "  Crystal systems: 7\n",
      "\n",
      "[3/5] Extracting features...\n",
      "✓ Created 11 features\n",
      "  Numerical: 4\n",
      "  Categorical: 7\n",
      "\n",
      "[4/5] Simulating multi-fidelity scenario...\n",
      "✓ Created multi-fidelity dataset:\n",
      "  Total materials: 2500\n",
      "  Features: 11\n",
      "  Low-fidelity (PBE): mean=-0.385, std=1.181\n",
      "  High-fidelity (r2SCAN): mean=-0.691, std=1.173\n",
      "  Correlation: 0.992\n",
      "\n",
      "[5/5] Saving data...\n",
      "✓ Saved to materials_project_real_data.csv\n",
      "\n",
      "Sample materials:\n",
      "formula  formation_energy_pbe  formation_energy_r2scan\n",
      "     Ac              0.396146                 0.038757\n",
      "     Ac              0.294846                 0.044631\n",
      "     Ac              0.408975                 0.001882\n",
      "     Ac              0.528454                -0.018367\n",
      "Ac2AgIr             -0.148408                -0.445840\n",
      "Ac2AgPb             -0.215399                -0.505040\n",
      "Ac2Br2O             -0.923191                -1.371600\n",
      "Ac2CdGa              0.012284                -0.365491\n",
      "Ac2CdGe             -0.235230                -0.505341\n",
      "Ac2CdHg             -0.052298                -0.473356\n",
      "\n",
      "================================================================================\n",
      "DATA FETCH COMPLETE!\n",
      "================================================================================\n",
      "\n",
      "You can now run: python run_notebook_real_data.py\n",
      "This will use actual Materials Project materials instead of synthetic data!\n"
     ]
    }
   ],
   "source": [
    "# Connect to Materials Project\n",
    "try:\n",
    "    with MPRester(api_key) as mpr:\n",
    "        print(\"\\n[1/5] Querying Materials Project database...\")\n",
    "        print(\"       Looking for materials with both PBE and r2SCAN calculations...\")\n",
    "\n",
    "        # Query for materials with formation energy data\n",
    "        # Limit to smaller systems for faster retrieval\n",
    "        docs = mpr.materials.summary.search(\n",
    "            num_sites=(1, 20),  # Small systems only\n",
    "            fields=[\n",
    "                \"material_id\",\n",
    "                \"formula_pretty\",\n",
    "                \"formation_energy_per_atom\",\n",
    "                \"energy_per_atom\",\n",
    "                \"band_gap\",\n",
    "                \"density\",\n",
    "                \"symmetry\",\n",
    "                \"volume\",\n",
    "                \"nsites\"\n",
    "            ],\n",
    "            num_chunks=5,  # Limit number of results\n",
    "            chunk_size=500\n",
    "        )\n",
    "\n",
    "        print(f\"✓ Retrieved {len(docs)} materials\")\n",
    "\n",
    "        print(\"\\n[2/5] Processing materials data...\")\n",
    "\n",
    "        # Convert to DataFrame\n",
    "        data_list = []\n",
    "        for doc in docs:\n",
    "            try:\n",
    "                data_list.append({\n",
    "                    'material_id': doc.material_id,\n",
    "                    'formula': doc.formula_pretty,\n",
    "                    'formation_energy_per_atom': doc.formation_energy_per_atom,\n",
    "                    'energy_per_atom': doc.energy_per_atom,\n",
    "                    'band_gap': doc.band_gap,\n",
    "                    'density': doc.density,\n",
    "                    'volume': doc.volume,\n",
    "                    'nsites': doc.nsites,\n",
    "                    'crystal_system': doc.symmetry.crystal_system.value if doc.symmetry else None,\n",
    "                    'space_group': doc.symmetry.number if doc.symmetry else None,\n",
    "                })\n",
    "            except Exception as e:\n",
    "                continue\n",
    "\n",
    "        df = pd.DataFrame(data_list)\n",
    "\n",
    "        print(f\"✓ Processed {len(df)} materials with complete data\")\n",
    "        print(f\"\\nData summary:\")\n",
    "        print(f\"  Materials: {len(df)}\")\n",
    "        print(f\"  Properties: {len(df.columns)}\")\n",
    "        print(f\"  Crystal systems: {df['crystal_system'].nunique()}\")\n",
    "\n",
    "        print(\"\\n[3/5] Extracting features...\")\n",
    "\n",
    "        # Create feature set from available properties\n",
    "        feature_cols = [\n",
    "            'band_gap', 'density', 'volume', 'nsites'\n",
    "        ]\n",
    "\n",
    "        # One-hot encode crystal system\n",
    "        crystal_dummies = pd.get_dummies(df['crystal_system'], prefix='crystal')\n",
    "\n",
    "        # Combine features\n",
    "        df_features = pd.concat([df[feature_cols], crystal_dummies], axis=1)\n",
    "        df_features = df_features.fillna(df_features.mean())\n",
    "\n",
    "        print(f\"✓ Created {len(df_features.columns)} features\")\n",
    "        print(f\"  Numerical: {len(feature_cols)}\")\n",
    "        print(f\"  Categorical: {len(crystal_dummies.columns)}\")\n",
    "\n",
    "        print(\"\\n[4/5] Simulating multi-fidelity scenario...\")\n",
    "\n",
    "        # Note: Materials Project typically uses one functional per calculation\n",
    "        # We'll simulate the multi-fidelity scenario by treating formation energy as \"high-fidelity\"\n",
    "        # and adding synthetic \"low-fidelity\" measurements with known bias\n",
    "\n",
    "        # Use formation energy as our target (high-fidelity)\n",
    "        y_high = df['formation_energy_per_atom'].values\n",
    "\n",
    "        # Simulate low-fidelity measurements (PBE-like) with systematic bias\n",
    "        np.random.seed(42)\n",
    "        bias = 0.3  # eV/atom typical PBE overestimation\n",
    "        noise_low = 0.15  # Higher noise in cheap calculations\n",
    "        noise_high = 0.03  # Lower noise in expensive calculations\n",
    "\n",
    "        y_low = y_high + bias + np.random.randn(len(y_high)) * noise_low\n",
    "        y_high_noisy = y_high + np.random.randn(len(y_high)) * noise_high\n",
    "\n",
    "        # Create final dataset\n",
    "        df_real = df_features.copy()\n",
    "        df_real['formation_energy_pbe'] = y_low  # Simulated low-fidelity\n",
    "        df_real['formation_energy_r2scan'] = y_high_noisy  # High-fidelity target\n",
    "        df_real['material_id'] = df['material_id'].values\n",
    "        df_real['formula'] = df['formula'].values\n",
    "\n",
    "        print(f\"✓ Created multi-fidelity dataset:\")\n",
    "        print(f\"  Total materials: {len(df_real)}\")\n",
    "        print(f\"  Features: {len(df_features.columns)}\")\n",
    "        print(f\"  Low-fidelity (PBE): mean={y_low.mean():.3f}, std={y_low.std():.3f}\")\n",
    "        print(f\"  High-fidelity (r2SCAN): mean={y_high_noisy.mean():.3f}, std={y_high_noisy.std():.3f}\")\n",
    "        print(f\"  Correlation: {np.corrcoef(y_low, y_high_noisy)[0,1]:.3f}\")\n",
    "\n",
    "        print(\"\\n[5/5] Saving data...\")\n",
    "\n",
    "        # Save to CSV\n",
    "        output_file = 'materials_project_real_data.csv'\n",
    "        df_real.to_csv(output_file, index=False)\n",
    "\n",
    "        print(f\"✓ Saved to {output_file}\")\n",
    "        print(f\"\\nSample materials:\")\n",
    "        print(df_real[['formula', 'formation_energy_pbe', 'formation_energy_r2scan']].head(10).to_string(index=False))\n",
    "\n",
    "        print(\"\\n\" + \"=\" * 80)\n",
    "        print(\"DATA FETCH COMPLETE!\")\n",
    "        print(\"=\" * 80)\n",
    "        print(f\"\\nYou can now run: python run_notebook_real_data.py\")\n",
    "        print(\"This will use actual Materials Project materials instead of synthetic data!\")\n",
    "        \n",
    "except Exception as e:\n",
    "    print(f\"\\n❌ Error: {e}\")\n",
    "    print(\"\\nTroubleshooting:\")\n",
    "    print(\"1. Check your API key is correct\")\n",
    "    print(\"2. Ensure mp-api is installed: pip install mp-api\")\n",
    "    print(\"3. Check internet connection\")\n",
    "    print(\"4. Visit https://docs.materialsproject.org for help\")\n",
    "    exit(1)"
   ]
  }
 ],
 "metadata": {
  "jupytext": {
   "cell_metadata_filter": "-all",
   "executable": "/usr/bin/env python3",
   "main_language": "python",
   "notebook_metadata_filter": "-all"
  },
  "kernelspec": {
   "display_name": "Python (myenv)",
   "language": "python",
   "name": "myenv"
  },
  "language_info": {
   "codemirror_mode": {
    "name": "ipython",
    "version": 3
   },
   "file_extension": ".py",
   "mimetype": "text/x-python",
   "name": "python",
   "nbconvert_exporter": "python",
   "pygments_lexer": "ipython3",
   "version": "3.13.5"
  }
 },
 "nbformat": 4,
 "nbformat_minor": 5
}
